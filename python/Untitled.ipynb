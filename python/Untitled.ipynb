{
 "cells": [
  {
   "cell_type": "markdown",
   "id": "adda776d",
   "metadata": {},
   "source": [
    "Fluxo de programa\n",
    "\n",
    "recebe o endereço da tabela\n",
    "\n",
    "verifica se a tabela existe\n",
    "abre a tabela\n"
   ]
  },
  {
   "cell_type": "code",
   "execution_count": null,
   "id": "f3df2286",
   "metadata": {},
   "outputs": [],
   "source": [
    "import pandas as pd\n",
    "import sys"
   ]
  },
  {
   "cell_type": "code",
   "execution_count": null,
   "id": "7796e2eb",
   "metadata": {},
   "outputs": [],
   "source": []
  }
 ],
 "metadata": {
  "kernelspec": {
   "display_name": "Python 3 (ipykernel)",
   "language": "python",
   "name": "python3"
  },
  "language_info": {
   "codemirror_mode": {
    "name": "ipython",
    "version": 3
   },
   "file_extension": ".py",
   "mimetype": "text/x-python",
   "name": "python",
   "nbconvert_exporter": "python",
   "pygments_lexer": "ipython3",
   "version": "3.10.9"
  }
 },
 "nbformat": 4,
 "nbformat_minor": 5
}
