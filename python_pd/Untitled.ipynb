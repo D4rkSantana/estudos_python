{
 "cells": [
  {
   "cell_type": "code",
   "execution_count": 1,
   "id": "1d14eba8",
   "metadata": {},
   "outputs": [],
   "source": [
    "import pandas as pd"
   ]
  },
  {
   "cell_type": "code",
   "execution_count": 2,
   "id": "423c4e9a",
   "metadata": {},
   "outputs": [
    {
     "name": "stdout",
     "output_type": "stream",
     "text": [
      "{'cliente': ['rubens', 'alana'], 'valor': [350, 450], 'data': ['10/02/2021', '23/10/2023']}\n"
     ]
    }
   ],
   "source": [
    "dicionario = {\n",
    "    'cliente': ['rubens', 'alana'],\n",
    "    'valor': [350, 450],\n",
    "    'data': ['10/02/2021', '23/10/2023'],\n",
    "}\n",
    "\n",
    "print(dicionario)"
   ]
  },
  {
   "cell_type": "code",
   "execution_count": 3,
   "id": "fef62eb5",
   "metadata": {
    "scrolled": true
   },
   "outputs": [],
   "source": [
    "dicionario_dataframe = pd.DataFrame(dicionario)"
   ]
  },
  {
   "cell_type": "code",
   "execution_count": 4,
   "id": "e23ce289",
   "metadata": {},
   "outputs": [
    {
     "name": "stdout",
     "output_type": "stream",
     "text": [
      "  cliente  valor        data\n",
      "0  rubens    350  10/02/2021\n",
      "1   alana    450  23/10/2023\n"
     ]
    },
    {
     "data": {
      "text/html": [
       "<div>\n",
       "<style scoped>\n",
       "    .dataframe tbody tr th:only-of-type {\n",
       "        vertical-align: middle;\n",
       "    }\n",
       "\n",
       "    .dataframe tbody tr th {\n",
       "        vertical-align: top;\n",
       "    }\n",
       "\n",
       "    .dataframe thead th {\n",
       "        text-align: right;\n",
       "    }\n",
       "</style>\n",
       "<table border=\"1\" class=\"dataframe\">\n",
       "  <thead>\n",
       "    <tr style=\"text-align: right;\">\n",
       "      <th></th>\n",
       "      <th>cliente</th>\n",
       "      <th>valor</th>\n",
       "      <th>data</th>\n",
       "    </tr>\n",
       "  </thead>\n",
       "  <tbody>\n",
       "    <tr>\n",
       "      <th>0</th>\n",
       "      <td>rubens</td>\n",
       "      <td>350</td>\n",
       "      <td>10/02/2021</td>\n",
       "    </tr>\n",
       "    <tr>\n",
       "      <th>1</th>\n",
       "      <td>alana</td>\n",
       "      <td>450</td>\n",
       "      <td>23/10/2023</td>\n",
       "    </tr>\n",
       "  </tbody>\n",
       "</table>\n",
       "</div>"
      ],
      "text/plain": [
       "  cliente  valor        data\n",
       "0  rubens    350  10/02/2021\n",
       "1   alana    450  23/10/2023"
      ]
     },
     "metadata": {},
     "output_type": "display_data"
    }
   ],
   "source": [
    "print(dicionario_dataframe)\n",
    "display(dicionario_dataframe)"
   ]
  },
  {
   "cell_type": "code",
   "execution_count": 5,
   "id": "fbd69741",
   "metadata": {},
   "outputs": [
    {
     "data": {
      "text/html": [
       "<div>\n",
       "<style scoped>\n",
       "    .dataframe tbody tr th:only-of-type {\n",
       "        vertical-align: middle;\n",
       "    }\n",
       "\n",
       "    .dataframe tbody tr th {\n",
       "        vertical-align: top;\n",
       "    }\n",
       "\n",
       "    .dataframe thead th {\n",
       "        text-align: right;\n",
       "    }\n",
       "</style>\n",
       "<table border=\"1\" class=\"dataframe\">\n",
       "  <thead>\n",
       "    <tr style=\"text-align: right;\">\n",
       "      <th></th>\n",
       "      <th>Telefone</th>\n",
       "      <th>Nome</th>\n",
       "      <th>Estado</th>\n",
       "      <th>Cidade</th>\n",
       "    </tr>\n",
       "  </thead>\n",
       "  <tbody>\n",
       "    <tr>\n",
       "      <th>0</th>\n",
       "      <td>+55(11)900000000</td>\n",
       "      <td>Ricardo</td>\n",
       "      <td>SP</td>\n",
       "      <td>São Paulo</td>\n",
       "    </tr>\n",
       "    <tr>\n",
       "      <th>1</th>\n",
       "      <td>+55(11)900000001</td>\n",
       "      <td>Luiz</td>\n",
       "      <td>BA</td>\n",
       "      <td>Salvador</td>\n",
       "    </tr>\n",
       "    <tr>\n",
       "      <th>2</th>\n",
       "      <td>+55(11)900000002</td>\n",
       "      <td>Alana</td>\n",
       "      <td>SC</td>\n",
       "      <td>Curitiba</td>\n",
       "    </tr>\n",
       "    <tr>\n",
       "      <th>3</th>\n",
       "      <td>+55(11)900000003</td>\n",
       "      <td>Monica</td>\n",
       "      <td>SP</td>\n",
       "      <td>Sao Paulo</td>\n",
       "    </tr>\n",
       "    <tr>\n",
       "      <th>4</th>\n",
       "      <td>+55(11)900000004</td>\n",
       "      <td>Lucca</td>\n",
       "      <td>SP</td>\n",
       "      <td>Santo Andre</td>\n",
       "    </tr>\n",
       "    <tr>\n",
       "      <th>5</th>\n",
       "      <td>+55(11)900000005</td>\n",
       "      <td>Joao</td>\n",
       "      <td>SP</td>\n",
       "      <td>Sao bernardo</td>\n",
       "    </tr>\n",
       "  </tbody>\n",
       "</table>\n",
       "</div>"
      ],
      "text/plain": [
       "           Telefone     Nome Estado        Cidade\n",
       "0  +55(11)900000000  Ricardo     SP     São Paulo\n",
       "1  +55(11)900000001     Luiz     BA      Salvador\n",
       "2  +55(11)900000002    Alana     SC      Curitiba\n",
       "3  +55(11)900000003   Monica     SP     Sao Paulo\n",
       "4  +55(11)900000004    Lucca     SP   Santo Andre\n",
       "5  +55(11)900000005     Joao     SP  Sao bernardo"
      ]
     },
     "metadata": {},
     "output_type": "display_data"
    }
   ],
   "source": [
    "banco_dados = pd.read_excel(\"banco_dados.xlsx\")\n",
    "display(banco_dados)"
   ]
  },
  {
   "cell_type": "code",
   "execution_count": null,
   "id": "162b1930",
   "metadata": {},
   "outputs": [],
   "source": [
    "print(banco_dados[])"
   ]
  },
  {
   "cell_type": "code",
   "execution_count": null,
   "id": "7c6ba786",
   "metadata": {},
   "outputs": [],
   "source": []
  },
  {
   "cell_type": "code",
   "execution_count": null,
   "id": "86910dfb",
   "metadata": {},
   "outputs": [],
   "source": []
  },
  {
   "cell_type": "code",
   "execution_count": null,
   "id": "0505e058",
   "metadata": {},
   "outputs": [],
   "source": []
  }
 ],
 "metadata": {
  "kernelspec": {
   "display_name": "Python 3 (ipykernel)",
   "language": "python",
   "name": "python3"
  },
  "language_info": {
   "codemirror_mode": {
    "name": "ipython",
    "version": 3
   },
   "file_extension": ".py",
   "mimetype": "text/x-python",
   "name": "python",
   "nbconvert_exporter": "python",
   "pygments_lexer": "ipython3",
   "version": "3.10.9"
  }
 },
 "nbformat": 4,
 "nbformat_minor": 5
}
