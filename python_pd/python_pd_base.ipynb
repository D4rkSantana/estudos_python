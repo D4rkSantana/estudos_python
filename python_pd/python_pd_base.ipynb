{
 "cells": [
  {
   "cell_type": "code",
   "execution_count": 2,
   "id": "1deb39b0",
   "metadata": {},
   "outputs": [],
   "source": [
    "import numpy as np\n",
    "import pandas as pd"
   ]
  },
  {
   "cell_type": "markdown",
   "id": "6c372e84",
   "metadata": {},
   "source": [
    "### Series\n",
    "\n",
    "#### Criando series"
   ]
  },
  {
   "cell_type": "code",
   "execution_count": 5,
   "id": "82189d31",
   "metadata": {},
   "outputs": [
    {
     "name": "stdout",
     "output_type": "stream",
     "text": [
      "0    1\n",
      "1    2\n",
      "2    3\n",
      "3    4\n",
      "4    5\n",
      "dtype: int64\n"
     ]
    }
   ],
   "source": [
    "# A partir de uma lista\n",
    "serie1 = pd.Series([1, 2, 3, 4, 5])\n",
    "print(serie1)"
   ]
  },
  {
   "cell_type": "code",
   "execution_count": 8,
   "id": "f11f65c3",
   "metadata": {},
   "outputs": [
    {
     "name": "stdout",
     "output_type": "stream",
     "text": [
      "a    1\n",
      "b    2\n",
      "c    3\n",
      "d    4\n",
      "e    5\n",
      "dtype: int64\n"
     ]
    }
   ],
   "source": [
    "# A partir de uma lista com indece\n",
    "serie2 = pd.Series([1, 2, 3, 4, 5], index = ['a', 'b', 'c', 'd', 'e'])\n",
    "print(serie2)"
   ]
  },
  {
   "cell_type": "code",
   "execution_count": 18,
   "id": "4fe048db",
   "metadata": {},
   "outputs": [
    {
     "name": "stdout",
     "output_type": "stream",
     "text": [
      "a    1\n",
      "b    2\n",
      "c    3\n",
      "d    4\n",
      "e    5\n",
      "dtype: int64\n"
     ]
    }
   ],
   "source": [
    "# A partir de um dicionario\n",
    "dict3 = {\n",
    "    'a': 1,\n",
    "    'b': 2,\n",
    "    'c': 3,\n",
    "    'd': 4,\n",
    "    'e': 5\n",
    "        }\n",
    "serie3 = pd.Series(dict3)\n",
    "print(serie3)"
   ]
  },
  {
   "cell_type": "markdown",
   "id": "6b622690",
   "metadata": {},
   "source": [
    "#### Acessando Series"
   ]
  },
  {
   "cell_type": "code",
   "execution_count": 25,
   "id": "677d4486",
   "metadata": {},
   "outputs": [
    {
     "name": "stdout",
     "output_type": "stream",
     "text": [
      "1\n",
      "1\n",
      "b    2\n",
      "c    3\n",
      "dtype: int64\n"
     ]
    }
   ],
   "source": [
    "#indice posicional\n",
    "print(serie2[0])\n",
    "\n",
    "#indice definido\n",
    "print(serie2['a'])"
   ]
  },
  {
   "cell_type": "code",
   "execution_count": 26,
   "id": "333e8898",
   "metadata": {},
   "outputs": [
    {
     "name": "stdout",
     "output_type": "stream",
     "text": [
      "b    2\n",
      "c    3\n",
      "dtype: int64\n"
     ]
    }
   ],
   "source": [
    "print(serie2[1:3])"
   ]
  },
  {
   "cell_type": "code",
   "execution_count": null,
   "id": "2ac208c9",
   "metadata": {},
   "outputs": [],
   "source": []
  }
 ],
 "metadata": {
  "kernelspec": {
   "display_name": "Python 3 (ipykernel)",
   "language": "python",
   "name": "python3"
  },
  "language_info": {
   "codemirror_mode": {
    "name": "ipython",
    "version": 3
   },
   "file_extension": ".py",
   "mimetype": "text/x-python",
   "name": "python",
   "nbconvert_exporter": "python",
   "pygments_lexer": "ipython3",
   "version": "3.10.9"
  }
 },
 "nbformat": 4,
 "nbformat_minor": 5
}
