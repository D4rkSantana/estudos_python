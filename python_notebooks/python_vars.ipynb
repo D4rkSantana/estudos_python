{
 "cells": [
  {
   "cell_type": "markdown",
   "id": "6c0ac6a3",
   "metadata": {},
   "source": [
    "#### Declaração de variaveis"
   ]
  },
  {
   "cell_type": "code",
   "execution_count": 50,
   "id": "981841e9",
   "metadata": {},
   "outputs": [
    {
     "name": "stdout",
     "output_type": "stream",
     "text": [
      "<class 'str'>\n",
      "<class 'int'>\n",
      "<class 'float'>\n",
      "<class 'bool'>\n",
      "<class 'complex'>\n"
     ]
    }
   ],
   "source": [
    "#strings and char\n",
    "var = \"string\" # or var = 'string'\n",
    "print(type(var))\n",
    "\n",
    "#int\n",
    "var = 1234\n",
    "print(type(var))\n",
    "\n",
    "#float and double\n",
    "var = 12.34\n",
    "print(type(var))\n",
    "\n",
    "#boolean\n",
    "var = True\n",
    "print(type(var))\n",
    "\n",
    "#complex\n",
    "var = 50+2j\n",
    "print(type(var))"
   ]
  },
  {
   "cell_type": "code",
   "execution_count": 43,
   "id": "feb7fcdd",
   "metadata": {},
   "outputs": [
    {
     "name": "stdout",
     "output_type": "stream",
     "text": [
      "<class 'list'>\n",
      "<class 'tuple'>\n",
      "<class 'dict'>\n"
     ]
    }
   ],
   "source": [
    "#list\n",
    "var_list = [1, 2, 3, 4, 5]\n",
    "print(type(var_list))\n",
    "\n",
    "#tuple\n",
    "var_tuple = (1, 2, 3, 4, 5)\n",
    "print(type(var_tuple))\n",
    "\n",
    "#dict\n",
    "var_dict = {'primeiro': 1, 'segundo': 2, 'terceiro': 3, 'quarto': [1, 2, 3, 4]}\n",
    "print(type(var_dict))\n"
   ]
  },
  {
   "cell_type": "markdown",
   "id": "ce7755e8",
   "metadata": {},
   "source": [
    "Acessando variaveis"
   ]
  },
  {
   "cell_type": "code",
   "execution_count": 44,
   "id": "cf24fc86",
   "metadata": {},
   "outputs": [
    {
     "name": "stdout",
     "output_type": "stream",
     "text": [
      "var_list    : [1, 2, 3, 4, 5] \n",
      "\n",
      "var_list0   : 1 \n",
      "\n",
      "\n",
      "var_tuple   : (1, 2, 3, 4, 5) \n",
      "\n",
      "var_tuple0  : 1 \n",
      "\n",
      "\n",
      "var_dict    : {'primeiro': 1, 'segundo': 2, 'terceiro': 3, 'quarto': [1, 2, 3, 4]} \n",
      "\n",
      "var_dict ult: [1, 2, 3, 4] \n",
      "\n",
      "\n"
     ]
    }
   ],
   "source": [
    "print('var_list    :', var_list, '\\n')\n",
    "print('var_list0   :', var_list[0], '\\n\\n')\n",
    "\n",
    "print('var_tuple   :', var_tuple, '\\n')\n",
    "print('var_tuple0  :', var_tuple[0], '\\n\\n')\n",
    "\n",
    "print('var_dict    :', var_dict, '\\n')\n",
    "print('var_dict ult:', var_dict['quarto'], '\\n\\n')\n"
   ]
  },
  {
   "cell_type": "markdown",
   "id": "25ce8c24",
   "metadata": {},
   "source": [
    "#### Declaração multipla"
   ]
  },
  {
   "cell_type": "code",
   "execution_count": 45,
   "id": "19048310",
   "metadata": {},
   "outputs": [
    {
     "name": "stdout",
     "output_type": "stream",
     "text": [
      "primeiro \n",
      " <class 'str'> \n",
      "\n",
      "True \n",
      " <class 'bool'> \n",
      "\n",
      "10 \n",
      " <class 'int'> \n",
      "\n",
      "(10, 20) \n",
      " <class 'tuple'> \n",
      "\n"
     ]
    }
   ],
   "source": [
    "var1, var2, var3, var4 = 'primeiro', True, 10, (10, 20)\n",
    "# or  = ['primeiro', True, 11, (10, 20)] or  = ('primeiro', True, 11, (10, 20))\n",
    "print(var1, '\\n', type(var1), '\\n')\n",
    "print(var2, '\\n', type(var2), '\\n')\n",
    "print(var3, '\\n', type(var3), '\\n')\n",
    "print(var4, '\\n', type(var4), '\\n')"
   ]
  },
  {
   "cell_type": "markdown",
   "id": "f0f71c59",
   "metadata": {},
   "source": [
    "#### Conversão de Variaveis"
   ]
  },
  {
   "cell_type": "markdown",
   "id": "72b627a0",
   "metadata": {},
   "source": [
    "Int para string"
   ]
  },
  {
   "cell_type": "code",
   "execution_count": 46,
   "id": "fc53b5a6",
   "metadata": {},
   "outputs": [
    {
     "name": "stdout",
     "output_type": "stream",
     "text": [
      "<class 'int'>\n",
      "<class 'str'>\n"
     ]
    }
   ],
   "source": [
    "var = 22\n",
    "print(type(var))\n",
    "var = str(var)\n",
    "print(type(var))"
   ]
  },
  {
   "cell_type": "markdown",
   "id": "9046c2b4",
   "metadata": {},
   "source": [
    "float para string"
   ]
  },
  {
   "cell_type": "code",
   "execution_count": 47,
   "id": "ef635d77",
   "metadata": {},
   "outputs": [
    {
     "name": "stdout",
     "output_type": "stream",
     "text": [
      "<class 'float'>\n",
      "<class 'str'>\n"
     ]
    }
   ],
   "source": [
    "var = 22.2\n",
    "print(type(var))\n",
    "var = str(var)\n",
    "print(type(var))"
   ]
  },
  {
   "cell_type": "markdown",
   "id": "25fbbb6e",
   "metadata": {},
   "source": [
    "int para float e float para int"
   ]
  },
  {
   "cell_type": "code",
   "execution_count": 48,
   "id": "edc44868",
   "metadata": {},
   "outputs": [
    {
     "name": "stdout",
     "output_type": "stream",
     "text": [
      "<class 'int'>\n",
      "<class 'float'>\n",
      "<class 'int'>\n"
     ]
    }
   ],
   "source": [
    "var = 22\n",
    "print(type(var))\n",
    "var = float(var)\n",
    "print(type(var))\n",
    "var = int(var)\n",
    "print(type(var))"
   ]
  },
  {
   "cell_type": "markdown",
   "id": "0414688c",
   "metadata": {},
   "source": [
    "boolean para int e int para boolean"
   ]
  },
  {
   "cell_type": "code",
   "execution_count": 49,
   "id": "411a0ec6",
   "metadata": {},
   "outputs": [
    {
     "name": "stdout",
     "output_type": "stream",
     "text": [
      "<class 'bool'>\n",
      "<class 'int'>\n",
      "<class 'bool'>\n"
     ]
    }
   ],
   "source": [
    "var = True\n",
    "print(type(var))\n",
    "var = int(var)\n",
    "print(type(var))\n",
    "var = bool(var)\n",
    "print(type(var))\n"
   ]
  }
 ],
 "metadata": {
  "kernelspec": {
   "display_name": "Python 3 (ipykernel)",
   "language": "python",
   "name": "python3"
  },
  "language_info": {
   "codemirror_mode": {
    "name": "ipython",
    "version": 3
   },
   "file_extension": ".py",
   "mimetype": "text/x-python",
   "name": "python",
   "nbconvert_exporter": "python",
   "pygments_lexer": "ipython3",
   "version": "3.10.11"
  }
 },
 "nbformat": 4,
 "nbformat_minor": 5
}
