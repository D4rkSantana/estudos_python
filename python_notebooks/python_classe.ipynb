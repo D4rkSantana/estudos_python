{
 "cells": [
  {
   "cell_type": "markdown",
   "id": "96f4f0ed",
   "metadata": {},
   "source": [
    "[referencia](https://pythonacademy.com.br/blog/introducao-a-programacao-orientada-a-objetos-no-python)"
   ]
  },
  {
   "cell_type": "markdown",
   "id": "8cef99c2",
   "metadata": {},
   "source": [
    "### Classes e Orientação a Objeto"
   ]
  },
  {
   "cell_type": "markdown",
   "id": "95ea3936",
   "metadata": {},
   "source": [
    "#### Definição de Classes"
   ]
  },
  {
   "cell_type": "code",
   "execution_count": 8,
   "id": "097c2979",
   "metadata": {},
   "outputs": [
    {
     "name": "stdout",
     "output_type": "stream",
     "text": [
      "o gato Jorginho esta miando, miaaau\n",
      "O gato Jorginho da cor laranja tem 5 anos de vida\n",
      "Jorginho laranja 5\n"
     ]
    }
   ],
   "source": [
    "class Gato:\n",
    "    def __init__(self, nome:str, cor:str, idade:int):\n",
    "        self.nome = nome\n",
    "        self.cor = cor\n",
    "        self.idade = idade\n",
    "        \n",
    "    def miado(self):\n",
    "        print(f'o gato {self.nome} esta miando, miaaau')\n",
    "        \n",
    "    def descricao(self):\n",
    "        print(f'O gato {self.nome} da cor {self.cor} tem {self.idade} anos de vida')\n",
    "    \n",
    "jorginho = Gato('Jorginho', 'laranja', 5)\n",
    "\n",
    "jorginho.miado()\n",
    "jorginho.descricao()\n",
    "print(jorginho.nome, jorginho.cor, jorginho.idade)\n"
   ]
  },
  {
   "cell_type": "markdown",
   "id": "502ba752",
   "metadata": {},
   "source": [
    "#### Herança de Classe"
   ]
  },
  {
   "cell_type": "code",
   "execution_count": 7,
   "id": "5e7818ed",
   "metadata": {},
   "outputs": [
    {
     "name": "stdout",
     "output_type": "stream",
     "text": [
      "O filhotinho Duduzinho esta miando para seu pai Jorginho, miau miau\n",
      "O gato Duduzinho da cor laranja tem 0 anos de vida\n",
      "Duduzinho laranja 0 Jorginho\n"
     ]
    }
   ],
   "source": [
    "class Filhotinho(Gato):\n",
    "    def __init__(self, nome:str, cor:str, idade:int, pais:str):\n",
    "        super().__init__(nome, cor, idade)\n",
    "        self.pais = pais\n",
    "\n",
    "    def miadinho(self):\n",
    "        print(f'O filhotinho {self.nome} esta miando para seu pai {self.pais}, miau miau')\n",
    "    \n",
    "duduzinho = Filhotinho('Duduzinho', 'laranja', 0, 'Jorginho')\n",
    "\n",
    "duduzinho.miadinho()\n",
    "duduzinho.descricao()\n",
    "print(duduzinho.nome, duduzinho.cor, duduzinho.idade, duduzinho.pais)"
   ]
  },
  {
   "cell_type": "markdown",
   "id": "e872ff85",
   "metadata": {},
   "source": [
    "### Metodos e atributos privados"
   ]
  },
  {
   "cell_type": "code",
   "execution_count": 18,
   "id": "642bc62d",
   "metadata": {},
   "outputs": [
    {
     "name": "stdout",
     "output_type": "stream",
     "text": [
      "luiza\n",
      "carla\n"
     ]
    }
   ],
   "source": [
    "class Human:\n",
    "    def __init__(self, nome, idade, sexo):\n",
    "        self.nome_publico = 'carla'\n",
    "        self.__nome = nome\n",
    "        self.__idade = idade\n",
    "        self.__sexo = sexo\n",
    "    \n",
    "    def get_nome(self): return self.__nome\n",
    "    def get_idade(self): return self.__idade\n",
    "    def get_sexo(self): return self.__sexo\n",
    "    \n",
    "humano = Human('luiza', 23, 'femea')\n",
    "\n",
    "print(humano.get_nome())\n",
    "print(humano.nome_publico)"
   ]
  },
  {
   "cell_type": "code",
   "execution_count": 21,
   "id": "3b362007",
   "metadata": {},
   "outputs": [
    {
     "ename": "AttributeError",
     "evalue": "'Human' object has no attribute '__nome'",
     "output_type": "error",
     "traceback": [
      "\u001b[1;31m---------------------------------------------------------------------------\u001b[0m",
      "\u001b[1;31mAttributeError\u001b[0m                            Traceback (most recent call last)",
      "Cell \u001b[1;32mIn[21], line 1\u001b[0m\n\u001b[1;32m----> 1\u001b[0m \u001b[38;5;28mprint\u001b[39m(\u001b[43mhumano\u001b[49m\u001b[38;5;241;43m.\u001b[39;49m\u001b[43m__nome\u001b[49m)\n",
      "\u001b[1;31mAttributeError\u001b[0m: 'Human' object has no attribute '__nome'"
     ]
    }
   ],
   "source": [
    "print(humano.__nome)"
   ]
  },
  {
   "cell_type": "code",
   "execution_count": null,
   "id": "23cdd702",
   "metadata": {},
   "outputs": [],
   "source": []
  }
 ],
 "metadata": {
  "kernelspec": {
   "display_name": "Python 3 (ipykernel)",
   "language": "python",
   "name": "python3"
  },
  "language_info": {
   "codemirror_mode": {
    "name": "ipython",
    "version": 3
   },
   "file_extension": ".py",
   "mimetype": "text/x-python",
   "name": "python",
   "nbconvert_exporter": "python",
   "pygments_lexer": "ipython3",
   "version": "3.10.9"
  }
 },
 "nbformat": 4,
 "nbformat_minor": 5
}
