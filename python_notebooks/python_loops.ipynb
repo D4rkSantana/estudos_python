{
 "cells": [
  {
   "cell_type": "markdown",
   "id": "b9ca1231",
   "metadata": {},
   "source": [
    "[Referencia](https://pythonacademy.com.br/blog/estruturas-de-repeticao)"
   ]
  },
  {
   "cell_type": "markdown",
   "id": "d3e77ade",
   "metadata": {},
   "source": [
    "### For com contador"
   ]
  },
  {
   "cell_type": "code",
   "execution_count": 1,
   "id": "38d8dcc9",
   "metadata": {},
   "outputs": [
    {
     "name": "stdout",
     "output_type": "stream",
     "text": [
      "0\n",
      "1\n",
      "2\n",
      "3\n",
      "4\n"
     ]
    }
   ],
   "source": [
    "for index in range(5):\n",
    "    print(index)"
   ]
  },
  {
   "cell_type": "markdown",
   "id": "46e4b1cc",
   "metadata": {},
   "source": [
    "### For com lista"
   ]
  },
  {
   "cell_type": "code",
   "execution_count": 3,
   "id": "c37b723a",
   "metadata": {},
   "outputs": [
    {
     "name": "stdout",
     "output_type": "stream",
     "text": [
      "ola\n",
      "tudo\n",
      "bem\n",
      "com\n",
      "voce\n",
      "?\n"
     ]
    }
   ],
   "source": [
    "lista = ['ola', 'tudo', 'bem', 'com', 'voce', '?']\n",
    "\n",
    "for palavra in lista:\n",
    "    print(palavra)"
   ]
  },
  {
   "cell_type": "markdown",
   "id": "86064877",
   "metadata": {},
   "source": [
    "### For com char e string"
   ]
  },
  {
   "cell_type": "code",
   "execution_count": 4,
   "id": "3566a661",
   "metadata": {},
   "outputs": [
    {
     "name": "stdout",
     "output_type": "stream",
     "text": [
      "o\n",
      "l\n",
      "a\n",
      " \n",
      "m\n",
      "e\n",
      "u\n",
      "s\n",
      " \n",
      "a\n",
      "m\n",
      "i\n",
      "g\n",
      "o\n",
      "s\n"
     ]
    }
   ],
   "source": [
    "palavra = 'ola meus amigos'\n",
    "\n",
    "for letra in palavra:\n",
    "    print(letra)"
   ]
  },
  {
   "cell_type": "markdown",
   "id": "57e61910",
   "metadata": {},
   "source": [
    "### For com dicionario"
   ]
  },
  {
   "cell_type": "code",
   "execution_count": 6,
   "id": "223f12e7",
   "metadata": {},
   "outputs": [
    {
     "name": "stdout",
     "output_type": "stream",
     "text": [
      "chave:a Valor:1\n",
      "chave:b Valor:2\n",
      "chave:c Valor:3\n",
      "chave:d Valor:4\n",
      "chave:e Valor:5\n"
     ]
    }
   ],
   "source": [
    "dicionario = {'a': 1, 'b': 2, 'c': 3, 'd': 4, 'e': 5}\n",
    "\n",
    "for chave, valor in dicionario.items():\n",
    "    print(f'chave:{chave} Valor:{valor}')"
   ]
  },
  {
   "cell_type": "markdown",
   "id": "4be1eb73",
   "metadata": {},
   "source": [
    "### While"
   ]
  },
  {
   "cell_type": "code",
   "execution_count": 10,
   "id": "65775826",
   "metadata": {},
   "outputs": [
    {
     "name": "stdout",
     "output_type": "stream",
     "text": [
      "0\n",
      "1\n",
      "2\n",
      "3\n",
      "4\n"
     ]
    }
   ],
   "source": [
    "index = 0\n",
    "\n",
    "while index < 5:\n",
    "    print(index)\n",
    "    index += 1"
   ]
  },
  {
   "cell_type": "markdown",
   "id": "c0bad8a4",
   "metadata": {},
   "source": [
    "### Else com loops"
   ]
  },
  {
   "cell_type": "code",
   "execution_count": 12,
   "id": "12abf166",
   "metadata": {},
   "outputs": [
    {
     "name": "stdout",
     "output_type": "stream",
     "text": [
      "d\n",
      "i\n",
      "a\n",
      "acabou\n"
     ]
    }
   ],
   "source": [
    "for letra in 'dia':\n",
    "    print(letra)\n",
    "else:\n",
    "    print('acabou')"
   ]
  },
  {
   "cell_type": "code",
   "execution_count": 15,
   "id": "987d1313",
   "metadata": {},
   "outputs": [
    {
     "name": "stdout",
     "output_type": "stream",
     "text": [
      "0\n",
      "1\n",
      "2\n",
      "acabou\n"
     ]
    }
   ],
   "source": [
    "index = 0\n",
    "while index < 3:\n",
    "    print(index)\n",
    "    index += 1\n",
    "else:\n",
    "    print('acabou')"
   ]
  },
  {
   "cell_type": "markdown",
   "id": "02882acc",
   "metadata": {},
   "source": [
    "### Auxiliadores"
   ]
  },
  {
   "cell_type": "markdown",
   "id": "768fc2d5",
   "metadata": {},
   "source": [
    "#### break\n",
    "quebra um laço de repetição"
   ]
  },
  {
   "cell_type": "code",
   "execution_count": 16,
   "id": "27764c0d",
   "metadata": {},
   "outputs": [
    {
     "name": "stdout",
     "output_type": "stream",
     "text": [
      "0\n",
      "1\n",
      "2\n",
      "3\n",
      "4\n"
     ]
    }
   ],
   "source": [
    "index = 0\n",
    "while index < 10:\n",
    "    print(index)\n",
    "    if index == 4:\n",
    "        break\n",
    "    index += 1"
   ]
  },
  {
   "cell_type": "markdown",
   "id": "15eec7e7",
   "metadata": {},
   "source": [
    "#### continue\n",
    "pula para o proximo ciclo do loop onde foi chamado"
   ]
  },
  {
   "cell_type": "code",
   "execution_count": 22,
   "id": "03fb72db",
   "metadata": {},
   "outputs": [
    {
     "name": "stdout",
     "output_type": "stream",
     "text": [
      "1\n",
      "3\n",
      "5\n",
      "7\n",
      "9\n"
     ]
    }
   ],
   "source": [
    "index = 0\n",
    "while index < 10:\n",
    "    index += 1\n",
    "    if index % 2 == 0:\n",
    "        continue\n",
    "    print(index)"
   ]
  },
  {
   "cell_type": "markdown",
   "id": "ca96ba3d",
   "metadata": {},
   "source": [
    "##### pass\n",
    "indica que o loop ou função esta vazia"
   ]
  },
  {
   "cell_type": "code",
   "execution_count": null,
   "id": "b73c5a83",
   "metadata": {},
   "outputs": [],
   "source": [
    "while True:\n",
    "    pass\n",
    "\n",
    "def funcao():\n",
    "    pass\n",
    "\n",
    "for index in range(10):\n",
    "    pass"
   ]
  },
  {
   "cell_type": "code",
   "execution_count": null,
   "id": "b9bd98ef",
   "metadata": {},
   "outputs": [],
   "source": []
  }
 ],
 "metadata": {
  "kernelspec": {
   "display_name": "Python 3 (ipykernel)",
   "language": "python",
   "name": "python3"
  },
  "language_info": {
   "codemirror_mode": {
    "name": "ipython",
    "version": 3
   },
   "file_extension": ".py",
   "mimetype": "text/x-python",
   "name": "python",
   "nbconvert_exporter": "python",
   "pygments_lexer": "ipython3",
   "version": "3.10.11"
  }
 },
 "nbformat": 4,
 "nbformat_minor": 5
}
