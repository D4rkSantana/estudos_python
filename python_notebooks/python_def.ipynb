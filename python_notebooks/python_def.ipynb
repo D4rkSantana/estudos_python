{
 "cells": [
  {
   "cell_type": "markdown",
   "id": "e84ea101",
   "metadata": {},
   "source": [
    "[Referencia](https://pythonacademy.com.br/blog/funcoes-em-python)"
   ]
  },
  {
   "cell_type": "markdown",
   "id": "acff2398",
   "metadata": {},
   "source": [
    "### Funções"
   ]
  },
  {
   "cell_type": "code",
   "execution_count": 2,
   "id": "fd504d6d",
   "metadata": {},
   "outputs": [
    {
     "name": "stdout",
     "output_type": "stream",
     "text": [
      "inicio\n",
      "funcao ok\n"
     ]
    }
   ],
   "source": [
    "def funcao():\n",
    "    print('funcao ok')\n",
    "    \n",
    "print('inicio')\n",
    "funcao()"
   ]
  },
  {
   "cell_type": "markdown",
   "id": "af482b4b",
   "metadata": {},
   "source": [
    "#### funcao com parametros"
   ]
  },
  {
   "cell_type": "code",
   "execution_count": 4,
   "id": "7c10d99e",
   "metadata": {},
   "outputs": [
    {
     "name": "stdout",
     "output_type": "stream",
     "text": [
      "Emerson\n"
     ]
    }
   ],
   "source": [
    "def p_name(name):\n",
    "    print(name)\n",
    "    \n",
    "p_name('Emerson')"
   ]
  },
  {
   "cell_type": "markdown",
   "id": "302f2974",
   "metadata": {},
   "source": [
    "#### Função com valor pre definido"
   ]
  },
  {
   "cell_type": "code",
   "execution_count": 5,
   "id": "abebb7ca",
   "metadata": {},
   "outputs": [
    {
     "name": "stdout",
     "output_type": "stream",
     "text": [
      "o gato é laranja\n",
      "o gato é preto\n"
     ]
    }
   ],
   "source": [
    "def gato(cor = 'laranja'):\n",
    "    print(f'o gato é {cor}')\n",
    "    \n",
    "gato()\n",
    "gato('preto')"
   ]
  },
  {
   "cell_type": "markdown",
   "id": "9589d6db",
   "metadata": {},
   "source": [
    "### Ordem dos parametros "
   ]
  },
  {
   "cell_type": "markdown",
   "id": "4bfcefbf",
   "metadata": {},
   "source": [
    "#### Posicional vs Nomeada"
   ]
  },
  {
   "cell_type": "code",
   "execution_count": 7,
   "id": "b4f5df26",
   "metadata": {},
   "outputs": [
    {
     "name": "stdout",
     "output_type": "stream",
     "text": [
      "--- posicional ---\n",
      "\n",
      "o passarinho da cor azul é do tamanho pequeno\n",
      "o passarinho da cor pequeno é do tamanho azul\n",
      "\n",
      "--- nomeada ---\n",
      "\n",
      "o passarinho da cor vermelho é do tamanho grande\n",
      "o passarinho da cor vermelho é do tamanho grande\n"
     ]
    }
   ],
   "source": [
    "def passarinho(cor, tamanho):\n",
    "    print(f'o passarinho da cor {cor} é do tamanho {tamanho}')\n",
    "\n",
    "#posicional\n",
    "print('--- posicional ---\\n')\n",
    "passarinho('azul', 'pequeno')\n",
    "passarinho('pequeno', 'azul')\n",
    "\n",
    "#nomeada\n",
    "print('\\n--- nomeada ---\\n')\n",
    "passarinho(cor = 'vermelho', tamanho = 'grande')\n",
    "passarinho(tamanho = 'grande', cor = 'vermelho')"
   ]
  },
  {
   "cell_type": "markdown",
   "id": "af6e0b76",
   "metadata": {},
   "source": [
    "### Parametro *args"
   ]
  },
  {
   "cell_type": "code",
   "execution_count": 11,
   "id": "559c0675",
   "metadata": {},
   "outputs": [
    {
     "name": "stdout",
     "output_type": "stream",
     "text": [
      "(1, 2, 3, 4, 5, 6)\n",
      "<class 'tuple'> \n",
      "\n",
      "('ola', 1, 'ok', 10)\n",
      "<class 'tuple'> \n",
      "\n",
      "('hi',)\n",
      "<class 'tuple'> \n",
      "\n"
     ]
    }
   ],
   "source": [
    "def numeros(*args):\n",
    "    print(args)\n",
    "    print(type(args), '\\n')\n",
    "    \n",
    "numeros(1, 2, 3, 4, 5, 6)\n",
    "numeros('ola', 1, 'ok', 10)\n",
    "numeros('hi')"
   ]
  },
  {
   "cell_type": "markdown",
   "id": "99e69819",
   "metadata": {},
   "source": [
    "### Parametro **kwargs"
   ]
  },
  {
   "cell_type": "code",
   "execution_count": 15,
   "id": "4580db62",
   "metadata": {},
   "outputs": [
    {
     "name": "stdout",
     "output_type": "stream",
     "text": [
      "{'roupa': 'casaco', 'arma': 'espada', 'armadura': 'leve'}\n",
      "<class 'dict'> \n",
      "\n",
      "{'local': 'laboratorio', 'classe': 'alquimista'}\n",
      "<class 'dict'> \n",
      "\n"
     ]
    }
   ],
   "source": [
    "def itens(**kwargs):\n",
    "    print(kwargs)\n",
    "    print(type(kwargs), '\\n')\n",
    "    \n",
    "itens(roupa='casaco', arma='espada', armadura='leve')\n",
    "itens(local='laboratorio', classe='alquimista')"
   ]
  },
  {
   "cell_type": "markdown",
   "id": "e73f2d32",
   "metadata": {},
   "source": [
    "### Retorno"
   ]
  },
  {
   "cell_type": "markdown",
   "id": "9f4af954",
   "metadata": {},
   "source": [
    "#### Retorno unico"
   ]
  },
  {
   "cell_type": "code",
   "execution_count": 17,
   "id": "45ece9d6",
   "metadata": {},
   "outputs": [
    {
     "name": "stdout",
     "output_type": "stream",
     "text": [
      "miau\n",
      "<class 'str'>\n"
     ]
    }
   ],
   "source": [
    "def gato():\n",
    "    return 'miau'\n",
    "\n",
    "saida = gato()\n",
    "print(saida)\n",
    "print(type(saida))"
   ]
  },
  {
   "cell_type": "markdown",
   "id": "841f45d3",
   "metadata": {},
   "source": [
    "#### Retorno Multiplo"
   ]
  },
  {
   "cell_type": "code",
   "execution_count": 20,
   "id": "58388420",
   "metadata": {},
   "outputs": [
    {
     "name": "stdout",
     "output_type": "stream",
     "text": [
      "('au', 'au', 'grrr')\n",
      "<class 'function'>\n"
     ]
    }
   ],
   "source": [
    "def cachorro():\n",
    "    return 'au', 'au', 'grrr'\n",
    "\n",
    "saida = cachorro()\n",
    "print(saida)\n",
    "print(type(cachorro))"
   ]
  },
  {
   "cell_type": "markdown",
   "id": "7344b129",
   "metadata": {},
   "source": [
    "### Funções de uma linha"
   ]
  },
  {
   "cell_type": "code",
   "execution_count": 26,
   "id": "03e83f8f",
   "metadata": {},
   "outputs": [
    {
     "name": "stdout",
     "output_type": "stream",
     "text": [
      "21\n",
      "hello\n",
      "world\n"
     ]
    }
   ],
   "source": [
    "def soma(num1, num2): return num1 + num2\n",
    "def p_hello(): print('hello'); return 'world'\n",
    "\n",
    "print(soma(1, 20))\n",
    "print(p_hello())"
   ]
  }
 ],
 "metadata": {
  "kernelspec": {
   "display_name": "Python 3 (ipykernel)",
   "language": "python",
   "name": "python3"
  },
  "language_info": {
   "codemirror_mode": {
    "name": "ipython",
    "version": 3
   },
   "file_extension": ".py",
   "mimetype": "text/x-python",
   "name": "python",
   "nbconvert_exporter": "python",
   "pygments_lexer": "ipython3",
   "version": "3.10.11"
  }
 },
 "nbformat": 4,
 "nbformat_minor": 5
}
