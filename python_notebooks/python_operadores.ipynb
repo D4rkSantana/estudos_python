{
 "cells": [
  {
   "cell_type": "markdown",
   "id": "a0fbeec4",
   "metadata": {},
   "source": [
    "#### Aritmeticos e atribuição"
   ]
  },
  {
   "cell_type": "code",
   "execution_count": 4,
   "id": "bc2804aa",
   "metadata": {},
   "outputs": [
    {
     "name": "stdout",
     "output_type": "stream",
     "text": [
      "2\n",
      "3\n",
      "10\n",
      "5\n",
      "100\n",
      "300\n",
      "1024\n",
      "1048576\n",
      "10.0\n",
      "5.0\n",
      "10\n",
      "5\n",
      "1\n",
      "1\n"
     ]
    }
   ],
   "source": [
    "#soma\n",
    "var = 1 + 1\n",
    "print(var)\n",
    "var += 1\n",
    "print(var)\n",
    "\n",
    "#subtração\n",
    "var = 20 - 10\n",
    "print(var)\n",
    "var -= 5\n",
    "print(var)\n",
    "\n",
    "#multiplicação\n",
    "var = 10 * 10\n",
    "print(var)\n",
    "var *= 3\n",
    "print(var)\n",
    "\n",
    "#expoente\n",
    "var = 2 ** 10\n",
    "print(var)\n",
    "var **= 2\n",
    "print(var)\n",
    "\n",
    "#divisão\n",
    "var = 100 / 10\n",
    "print(var)\n",
    "var /= 2\n",
    "print(var)\n",
    "\n",
    "#divisão inteira\n",
    "var = 100 // 10\n",
    "print(var)\n",
    "var //= 2\n",
    "print(var)\n",
    "\n",
    "#modulo ou resto da divisão\n",
    "var = 100 % 3\n",
    "print(var)\n",
    "var %= 2\n",
    "print(var)"
   ]
  },
  {
   "cell_type": "markdown",
   "id": "1e024ae7",
   "metadata": {},
   "source": [
    "#### Operadores Condicionais"
   ]
  },
  {
   "cell_type": "code",
   "execution_count": 3,
   "id": "ebef187b",
   "metadata": {},
   "outputs": [
    {
     "name": "stdout",
     "output_type": "stream",
     "text": [
      "true\n",
      "true\n",
      "true\n",
      "true\n",
      "true\n",
      "true\n"
     ]
    }
   ],
   "source": [
    "#Igual\n",
    "if 10 == 5+5:\n",
    "    print('true')\n",
    "\n",
    "#Diferente de\n",
    "if 11 != 5+5:\n",
    "    print('true')\n",
    "    \n",
    "#Maior que\n",
    "if 11 > 5+5:\n",
    "    print('true')\n",
    "    \n",
    "#Maior ou igual\n",
    "if 10 >= 5+5:\n",
    "    print('true')\n",
    "\n",
    "#Menor que\n",
    "if 9 < 5+5:\n",
    "    print('true')\n",
    "\n",
    "#Menor ou igual\n",
    "if 10 <= 5+5:\n",
    "    print('true')"
   ]
  },
  {
   "cell_type": "markdown",
   "id": "a2d46eaa",
   "metadata": {},
   "source": [
    "#### Operadores Logicos"
   ]
  },
  {
   "cell_type": "code",
   "execution_count": 6,
   "id": "1a4b0de7",
   "metadata": {},
   "outputs": [
    {
     "name": "stdout",
     "output_type": "stream",
     "text": [
      "true\n",
      "true\n",
      "true\n"
     ]
    }
   ],
   "source": [
    "#operador 'e'\n",
    "if 10 == 5+5 and 20 == 10*2:\n",
    "    print('true')\n",
    "    \n",
    "#operador 'ou'\n",
    "if 11 == 5+5 or 20 == 10*2:\n",
    "    print('true')\n",
    "    \n",
    "#operador 'not'\n",
    "if not 11 == 5+5:\n",
    "    print('true')"
   ]
  },
  {
   "cell_type": "markdown",
   "id": "ea1df146",
   "metadata": {},
   "source": [
    "#### Operador is"
   ]
  },
  {
   "cell_type": "code",
   "execution_count": 4,
   "id": "807d978e",
   "metadata": {},
   "outputs": [
    {
     "name": "stdout",
     "output_type": "stream",
     "text": [
      "true1\n",
      "true2\n"
     ]
    }
   ],
   "source": [
    "lista1 = [1, 2, 3]\n",
    "lista2 = [1, 2, 3]\n",
    "lista3 = lista1\n",
    "\n",
    "if lista1 is not lista2:\n",
    "    print('true1')\n",
    "if lista1 is lista3:\n",
    "    print('true2')"
   ]
  },
  {
   "cell_type": "markdown",
   "id": "d3a27a71",
   "metadata": {},
   "source": [
    "#### Operador in"
   ]
  },
  {
   "cell_type": "code",
   "execution_count": 6,
   "id": "4b948edc",
   "metadata": {},
   "outputs": [
    {
     "name": "stdout",
     "output_type": "stream",
     "text": [
      "true\n",
      "true\n"
     ]
    }
   ],
   "source": [
    "lista = ['ola', 'oi', 'hello', 'hi']\n",
    "\n",
    "if 'oi' in lista:\n",
    "    print('true')\n",
    "    \n",
    "if 'tchau' not in lista:\n",
    "    print('true')"
   ]
  },
  {
   "cell_type": "code",
   "execution_count": null,
   "id": "5ee6996f",
   "metadata": {},
   "outputs": [],
   "source": []
  }
 ],
 "metadata": {
  "kernelspec": {
   "display_name": "Python 3 (ipykernel)",
   "language": "python",
   "name": "python3"
  },
  "language_info": {
   "codemirror_mode": {
    "name": "ipython",
    "version": 3
   },
   "file_extension": ".py",
   "mimetype": "text/x-python",
   "name": "python",
   "nbconvert_exporter": "python",
   "pygments_lexer": "ipython3",
   "version": "3.10.11"
  }
 },
 "nbformat": 4,
 "nbformat_minor": 5
}
