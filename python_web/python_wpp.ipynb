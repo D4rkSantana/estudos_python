{
 "cells": [
  {
   "cell_type": "code",
   "execution_count": 13,
   "id": "0449c57b",
   "metadata": {},
   "outputs": [],
   "source": [
    "from selenium import webdriver\n",
    "from selenium.webdriver.common.keys import Keys\n",
    "from selenium.webdriver.common.by import By\n",
    "\n",
    "import pandas as pd\n",
    "import time\n",
    "from urllib.parse import quote\n",
    "import os"
   ]
  },
  {
   "cell_type": "code",
   "execution_count": 14,
   "id": "e204062d",
   "metadata": {},
   "outputs": [],
   "source": [
    "def wait_load():\n",
    "    while len(navegador.find_elements(\"id\", \"side\")) < 1:\n",
    "        time.sleep(1)\n",
    "    time.sleep(4)"
   ]
  },
  {
   "cell_type": "code",
   "execution_count": 24,
   "id": "6dccd33e",
   "metadata": {},
   "outputs": [],
   "source": [
    "def send_mensage(nome, numero, file):\n",
    "    mensagem = f\"Ola {nome}, como vai?\\nEssa é uma mensagem do Urubuzão, por gentileza me envie R$300,00 no pix e o Urubu do pix ira te devolver R$2000,00 em até 24 horas\"\n",
    "    mensagem = quote(mensagem)\n",
    "    link = f\"http://web.whatsapp.com/send?phone={numero}&text={mensagem}\"\n",
    "    navegador.get(link)\n",
    "    wait_load()\n",
    "    navegador.find_element(By.XPATH, '/html/body/div[1]/div/div/div[5]/div/footer/div[1]/div/span[2]/div/div[2]/div[2]').click()\n",
    "    time.sleep(1)\n",
    "    if file != ' ':\n",
    "        navegador.find_element(By.XPATH, '/html/body/div[1]/div/div/div[5]/div/footer/div[1]/div/span[2]/div/div[1]/div[2]/div/div').click()\n",
    "        time.sleep(1)\n",
    "        navegador.find_element(By.XPATH, '/html/body/div[1]/div/div/div[5]/div/footer/div[1]/div/span[2]/div/div[1]/div[2]/div/span/div/div/ul/li[1]/button/input').send_keys(arquivo)\n",
    "        time.sleep(5)\n",
    "        navegador.find_element(By.XPATH, '/html/body/div[1]/div/div/div[3]/div[2]/span/div/span/div/div/div[2]/div/div[2]/div[2]/div/div').click()\n",
    "        time.sleep(2)\n",
    "    time.sleep(10)"
   ]
  },
  {
   "cell_type": "code",
   "execution_count": 16,
   "id": "acea07d4",
   "metadata": {},
   "outputs": [
    {
     "name": "stdout",
     "output_type": "stream",
     "text": [
      "C:\\Users\\Rato Petista\\Desktop\\Emerson\\dev2\\python_web\\arquivos\\urubu-do-pix.jpg\n"
     ]
    }
   ],
   "source": [
    "contact_df = pd.read_excel('contatos.xlsx')\n",
    "arquivo = os.path.abspath(\"arquivos/urubu-do-pix.jpg\")\n",
    "print(arquivo)"
   ]
  },
  {
   "cell_type": "code",
   "execution_count": 19,
   "id": "2660a1a9",
   "metadata": {},
   "outputs": [],
   "source": [
    "navegador = webdriver.Firefox()\n",
    "navegador.get('https://web.whatsapp.com/')\n",
    "wait_load()"
   ]
  },
  {
   "cell_type": "code",
   "execution_count": 25,
   "id": "721d121e",
   "metadata": {},
   "outputs": [],
   "source": [
    "for index in contact_df.index:\n",
    "    nome = contact_df.loc[index, 'Nome']\n",
    "    numero = contact_df.loc[index, 'Numero']\n",
    "    send_mensage(nome, numero, arquivo)"
   ]
  },
  {
   "cell_type": "code",
   "execution_count": null,
   "id": "fb170e2a",
   "metadata": {},
   "outputs": [],
   "source": []
  }
 ],
 "metadata": {
  "kernelspec": {
   "display_name": "Python 3 (ipykernel)",
   "language": "python",
   "name": "python3"
  },
  "language_info": {
   "codemirror_mode": {
    "name": "ipython",
    "version": 3
   },
   "file_extension": ".py",
   "mimetype": "text/x-python",
   "name": "python",
   "nbconvert_exporter": "python",
   "pygments_lexer": "ipython3",
   "version": "3.10.9"
  }
 },
 "nbformat": 4,
 "nbformat_minor": 5
}
