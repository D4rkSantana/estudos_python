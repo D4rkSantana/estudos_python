{
 "cells": [
  {
   "cell_type": "code",
   "execution_count": 1,
   "id": "a45fa62d",
   "metadata": {},
   "outputs": [
    {
     "data": {
      "text/html": [
       "<div>\n",
       "<style scoped>\n",
       "    .dataframe tbody tr th:only-of-type {\n",
       "        vertical-align: middle;\n",
       "    }\n",
       "\n",
       "    .dataframe tbody tr th {\n",
       "        vertical-align: top;\n",
       "    }\n",
       "\n",
       "    .dataframe thead th {\n",
       "        text-align: right;\n",
       "    }\n",
       "</style>\n",
       "<table border=\"1\" class=\"dataframe\">\n",
       "  <thead>\n",
       "    <tr style=\"text-align: right;\">\n",
       "      <th></th>\n",
       "      <th>Nome</th>\n",
       "      <th>Numero</th>\n",
       "      <th>UF</th>\n",
       "      <th>Cidade</th>\n",
       "      <th>Filiado</th>\n",
       "    </tr>\n",
       "  </thead>\n",
       "  <tbody>\n",
       "    <tr>\n",
       "      <th>0</th>\n",
       "      <td>Joana</td>\n",
       "      <td>5511983251748</td>\n",
       "      <td>SP</td>\n",
       "      <td>são paulo</td>\n",
       "      <td>sim</td>\n",
       "    </tr>\n",
       "    <tr>\n",
       "      <th>1</th>\n",
       "      <td>Everton</td>\n",
       "      <td>5511949793990</td>\n",
       "      <td>SP</td>\n",
       "      <td>são paulo</td>\n",
       "      <td>sim</td>\n",
       "    </tr>\n",
       "    <tr>\n",
       "      <th>2</th>\n",
       "      <td>Emerson</td>\n",
       "      <td>5511962676520</td>\n",
       "      <td>SP</td>\n",
       "      <td>são paulo</td>\n",
       "      <td>sim</td>\n",
       "    </tr>\n",
       "  </tbody>\n",
       "</table>\n",
       "</div>"
      ],
      "text/plain": [
       "      Nome         Numero  UF     Cidade Filiado\n",
       "0    Joana  5511983251748  SP  são paulo     sim\n",
       "1  Everton  5511949793990  SP  são paulo     sim\n",
       "2  Emerson  5511962676520  SP  são paulo     sim"
      ]
     },
     "metadata": {},
     "output_type": "display_data"
    },
    {
     "name": "stdout",
     "output_type": "stream",
     "text": [
      "Pronto mano, enviou tudo kct\n"
     ]
    }
   ],
   "source": [
    "from selenium import webdriver\n",
    "from selenium.webdriver.common.keys import Keys\n",
    "from selenium.webdriver.common.by import By\n",
    "\n",
    "import pandas as pd\n",
    "import time\n",
    "from urllib.parse import quote\n",
    "\n",
    "def wait_load():\n",
    "    while len(navegador.find_elements(\"id\", \"side\")) < 1:\n",
    "        time.sleep(1)\n",
    "        \n",
    "def send_mensage(nome, numero):\n",
    "    mensagem = f\"Ola {nome}, como vai?\\nEssa é uma mensagem do Urubuzão, por gentileza me envie R$300,00 no pix e o Urubu do pix ira te devolver R$2000,00 em até 24 horas\"\n",
    "    mensagem = quote(mensagem)\n",
    "    link = f\"http://web.whatsapp.com/send?phone={numero}&text={mensagem}\"\n",
    "    navegador.get(link)\n",
    "    wait_load()\n",
    "    time.sleep(3)\n",
    "    navegador.find_element(By.XPATH, '//*[@id=\"main\"]/footer/div[1]/div/span[2]/div/div[2]/div[2]/button/span').click()\n",
    "    time.sleep(10)\n",
    "\n",
    "contact_df = pd.read_excel('contatos.xlsx')\n",
    "display(contact_df)\n",
    "\n",
    "navegador = webdriver.Chrome()\n",
    "navegador.get('http://web.whatsapp.com/')\n",
    "wait_load()\n",
    "\n",
    "for index in contact_df.index:\n",
    "    nome = contact_df.loc[index, 'Nome']\n",
    "    numero = contact_df.loc[index, 'Numero']\n",
    "    send_mensage(nome, numero)\n",
    "\n",
    "print(\"Pronto mano, enviou tudo kct\")"
   ]
  },
  {
   "cell_type": "code",
   "execution_count": null,
   "id": "5d56d549",
   "metadata": {},
   "outputs": [],
   "source": []
  }
 ],
 "metadata": {
  "kernelspec": {
   "display_name": "Python 3 (ipykernel)",
   "language": "python",
   "name": "python3"
  },
  "language_info": {
   "codemirror_mode": {
    "name": "ipython",
    "version": 3
   },
   "file_extension": ".py",
   "mimetype": "text/x-python",
   "name": "python",
   "nbconvert_exporter": "python",
   "pygments_lexer": "ipython3",
   "version": "3.10.9"
  }
 },
 "nbformat": 4,
 "nbformat_minor": 5
}
